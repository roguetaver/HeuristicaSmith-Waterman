{
  "cells": [
    {
      "cell_type": "markdown",
      "metadata": {
        "id": "L2gAYBjX_MBM"
      },
      "source": [
        "**GERADOR DE INSTÂNCIAS PARA COMPARAÇÃO DE SEQUENCIAS DE DNA**\n",
        "\n",
        "Para usar este gerador, você deve fornecer três parâmetros:\n",
        "\n",
        "n = tamanho da primeira sequencia \n",
        "\n",
        "m = tamanho da segunda instância \n",
        "\n",
        "file = nome do arquivo da instância a ser gerada"
      ]
    },
    {
      "cell_type": "code",
      "execution_count": 1,
      "metadata": {
        "colab": {
          "base_uri": "https://localhost:8080/"
        },
        "id": "_s7Cbahf_LId",
        "outputId": "1ac73e4b-1f04-4170-d159-bb3a861bc4d6"
      },
      "outputs": [
        {
          "name": "stdout",
          "output_type": "stream",
          "text": [
            "10\n",
            "40\n",
            "CAAGCCCGGG\n",
            "ACCGTAGATTAGATCA-AGATGATGTAAAG-AG-A-TCGG\n"
          ]
        }
      ],
      "source": [
        "import random\n",
        "n = 10\n",
        "m = 40\n",
        "file = 'dna.seq'\n",
        "f = open(file, 'w')\n",
        "seq=[str(n)+'\\n',\n",
        "     str(m)+'\\n',\n",
        "     ''.join(random.choices(['A','T','C','G','-'],k=n))+'\\n',\n",
        "     ''.join(random.choices(['A','T','C','G','-'],k=m))]\n",
        "f.writelines(seq)\n",
        "f.close()\n",
        "print(''.join(seq))"
      ]
    }
  ],
  "metadata": {
    "colab": {
      "collapsed_sections": [],
      "name": "SequenceGenerator.ipynb",
      "provenance": []
    },
    "kernelspec": {
      "display_name": "Python 3",
      "name": "python3"
    },
    "language_info": {
      "codemirror_mode": {
        "name": "ipython",
        "version": 3
      },
      "file_extension": ".py",
      "mimetype": "text/x-python",
      "name": "python",
      "nbconvert_exporter": "python",
      "pygments_lexer": "ipython3",
      "version": "3.8.10"
    }
  },
  "nbformat": 4,
  "nbformat_minor": 0
}
