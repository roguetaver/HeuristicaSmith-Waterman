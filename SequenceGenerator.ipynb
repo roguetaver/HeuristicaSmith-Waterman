{
  "nbformat": 4,
  "nbformat_minor": 0,
  "metadata": {
    "colab": {
      "name": "SequenceGenerator.ipynb",
      "provenance": [],
      "collapsed_sections": []
    },
    "kernelspec": {
      "name": "python3",
      "display_name": "Python 3"
    },
    "language_info": {
      "name": "python"
    }
  },
  "cells": [
    {
      "cell_type": "markdown",
      "source": [
        "**GERADOR DE INSTÂNCIAS PARA COMPARAÇÃO DE SEQUENCIAS DE DNA**\n",
        "\n",
        "Para usar este gerador, você deve fornecer três parâmetros:\n",
        "\n",
        "n = tamanho da primeira sequencia \n",
        "\n",
        "m = tamanho da segunda instância \n",
        "\n",
        "file = nome do arquivo da instância a ser gerada"
      ],
      "metadata": {
        "id": "L2gAYBjX_MBM"
      }
    },
    {
      "cell_type": "code",
      "execution_count": 1,
      "metadata": {
        "colab": {
          "base_uri": "https://localhost:8080/"
        },
        "id": "_s7Cbahf_LId",
        "outputId": "1ac73e4b-1f04-4170-d159-bb3a861bc4d6"
      },
      "outputs": [
        {
          "output_type": "stream",
          "name": "stdout",
          "text": [
            "10\n",
            "40\n",
            "TGGCGAT--C\n",
            "AGC-TCTCTTC--ATT--CAC-TACACCGACA-CGC-G-A\n"
          ]
        }
      ],
      "source": [
        "import random\n",
        "n = 10\n",
        "m = 40\n",
        "file = 'dna.seq'\n",
        "f = open(file, 'w')\n",
        "seq=[str(n)+'\\n',\n",
        "     str(m)+'\\n',\n",
        "     ''.join(random.choices(['A','T','C','G','-'],k=n))+'\\n',\n",
        "     ''.join(random.choices(['A','T','C','G','-'],k=m))]\n",
        "f.writelines(seq)\n",
        "f.close()\n",
        "print(''.join(seq))"
      ]
    }
  ]
}